{
 "cells": [
  {
   "cell_type": "markdown",
   "id": "f3f29a36",
   "metadata": {},
   "source": [
    "\n",
    "# Input"
   ]
  },
  {
   "cell_type": "code",
   "execution_count": 14,
   "id": "a244c2fb",
   "metadata": {},
   "outputs": [],
   "source": [
    "test_input = \"\"\"Time:      7  15   30\n",
    "Distance:  9  40  200\"\"\""
   ]
  },
  {
   "cell_type": "code",
   "execution_count": 15,
   "id": "a1ee5fb6",
   "metadata": {},
   "outputs": [],
   "source": [
    "input_ = \"\"\"Time:        40     82     84     92\n",
    "Distance:   233   1011   1110   1487\"\"\""
   ]
  },
  {
   "cell_type": "code",
   "execution_count": 16,
   "id": "ed482cf2",
   "metadata": {},
   "outputs": [],
   "source": [
    "def times_and_distances(input_):\n",
    "    input_list = input_.split(\"\\n\")\n",
    "    times = [int(x) for x in input_list[0].split(\":\")[1].split(\" \") if x]\n",
    "    distances = [int(x) for x in input_list[1].split(\":\")[1].split(\" \") if x]\n",
    "    return [[x,y] for x, y in zip(times, distances)]"
   ]
  },
  {
   "cell_type": "markdown",
   "id": "7d06cbac",
   "metadata": {},
   "source": [
    "# Part 1"
   ]
  },
  {
   "cell_type": "code",
   "execution_count": 17,
   "id": "a884fd06",
   "metadata": {},
   "outputs": [],
   "source": [
    "def race(t_d_pair):\n",
    "    time = t_d_pair[0]\n",
    "    distance = t_d_pair[1]\n",
    "    successes = []\n",
    "    for m in range(time):\n",
    "        time_left = time - m\n",
    "        speed = m\n",
    "        distance_covered = speed*time_left\n",
    "        if distance_covered > distance:\n",
    "            successes.append([speed, distance_covered])\n",
    "    return successes"
   ]
  },
  {
   "cell_type": "code",
   "execution_count": 18,
   "id": "b6424636",
   "metadata": {},
   "outputs": [],
   "source": [
    "def total_score(t_n_d):\n",
    "    score = 1\n",
    "    for pair in t_n_d:\n",
    "        successes = race(pair)\n",
    "        score = score * len(successes)\n",
    "    return score"
   ]
  },
  {
   "cell_type": "code",
   "execution_count": 19,
   "id": "84a7edb9",
   "metadata": {},
   "outputs": [
    {
     "data": {
      "text/plain": [
       "3316275"
      ]
     },
     "execution_count": 19,
     "metadata": {},
     "output_type": "execute_result"
    }
   ],
   "source": [
    "total_score(times_and_distances(input_))"
   ]
  },
  {
   "cell_type": "markdown",
   "id": "b7df4426",
   "metadata": {},
   "source": [
    "# Part 2"
   ]
  },
  {
   "cell_type": "code",
   "execution_count": 20,
   "id": "abd86f38",
   "metadata": {},
   "outputs": [],
   "source": [
    "def time_and_distance(input_):\n",
    "    input_list = input_.split(\"\\n\")\n",
    "    times = [x for x in input_list[0].split(\":\")[1].split(\" \") if x]\n",
    "    time = int(\"\".join(times))\n",
    "    distances = [x for x in input_list[1].split(\":\")[1].split(\" \") if x]\n",
    "    distance = int(\"\".join(distances))\n",
    "    return time, distance"
   ]
  },
  {
   "cell_type": "code",
   "execution_count": 21,
   "id": "5302063c",
   "metadata": {},
   "outputs": [],
   "source": [
    "# go up in time holding the button until you start winning\n",
    "# go down in time holding the button until you start winning\n",
    "# count the numbers in between"
   ]
  },
  {
   "cell_type": "code",
   "execution_count": 27,
   "id": "2c0f5c0a",
   "metadata": {},
   "outputs": [],
   "source": [
    "def race(t_d_pair):\n",
    "    time = t_d_pair[0]\n",
    "    distance = t_d_pair[1]\n",
    "    success_range = []\n",
    "    for m in range(time):\n",
    "        time_left = time - m\n",
    "        speed = m\n",
    "        distance_covered = speed * time_left\n",
    "        if distance_covered > distance:\n",
    "            success_range.append([speed, distance_covered])\n",
    "            break\n",
    "    for m in range(time):\n",
    "        time_left = m\n",
    "        speed = time - m\n",
    "        distance_covered = speed * time_left\n",
    "        if distance_covered > distance:\n",
    "            success_range.append([speed, distance_covered])\n",
    "            break\n",
    "    num_of_successes = success_range[1][0] - success_range[0][0] + 1\n",
    "    return num_of_successes\n",
    "            \n"
   ]
  },
  {
   "cell_type": "code",
   "execution_count": 28,
   "id": "ebb08bc9",
   "metadata": {},
   "outputs": [],
   "source": [
    "def total_score(t_n_d):\n",
    "    score = 1\n",
    "    for pair in t_n_d:\n",
    "        num_of_successes = race(pair)\n",
    "        score = score * num_of_successes\n",
    "    return score"
   ]
  },
  {
   "cell_type": "code",
   "execution_count": 29,
   "id": "fa1c6a88",
   "metadata": {},
   "outputs": [
    {
     "name": "stdout",
     "output_type": "stream",
     "text": [
      "71530\n"
     ]
    },
    {
     "ename": "TypeError",
     "evalue": "'int' object is not subscriptable",
     "output_type": "error",
     "traceback": [
      "\u001b[0;31m---------------------------------------------------------------------------\u001b[0m",
      "\u001b[0;31mTypeError\u001b[0m                                 Traceback (most recent call last)",
      "Cell \u001b[0;32mIn [29], line 1\u001b[0m\n\u001b[0;32m----> 1\u001b[0m \u001b[43mtotal_score\u001b[49m\u001b[43m(\u001b[49m\u001b[43mtime_and_distance\u001b[49m\u001b[43m(\u001b[49m\u001b[43mtest_input\u001b[49m\u001b[43m)\u001b[49m\u001b[43m)\u001b[49m\n",
      "Cell \u001b[0;32mIn [28], line 4\u001b[0m, in \u001b[0;36mtotal_score\u001b[0;34m(t_n_d)\u001b[0m\n\u001b[1;32m      2\u001b[0m score \u001b[38;5;241m=\u001b[39m \u001b[38;5;241m1\u001b[39m\n\u001b[1;32m      3\u001b[0m \u001b[38;5;28;01mfor\u001b[39;00m pair \u001b[38;5;129;01min\u001b[39;00m t_n_d:\n\u001b[0;32m----> 4\u001b[0m     num_of_successes \u001b[38;5;241m=\u001b[39m \u001b[43mrace\u001b[49m\u001b[43m(\u001b[49m\u001b[43mpair\u001b[49m\u001b[43m)\u001b[49m\n\u001b[1;32m      5\u001b[0m     score \u001b[38;5;241m=\u001b[39m score \u001b[38;5;241m*\u001b[39m num_of_successes\n\u001b[1;32m      6\u001b[0m \u001b[38;5;28;01mreturn\u001b[39;00m score\n",
      "Cell \u001b[0;32mIn [27], line 3\u001b[0m, in \u001b[0;36mrace\u001b[0;34m(t_d_pair)\u001b[0m\n\u001b[1;32m      1\u001b[0m \u001b[38;5;28;01mdef\u001b[39;00m \u001b[38;5;21mrace\u001b[39m(t_d_pair):\n\u001b[1;32m      2\u001b[0m     \u001b[38;5;28mprint\u001b[39m(t_d_pair)\n\u001b[0;32m----> 3\u001b[0m     time \u001b[38;5;241m=\u001b[39m \u001b[43mt_d_pair\u001b[49m\u001b[43m[\u001b[49m\u001b[38;5;241;43m0\u001b[39;49m\u001b[43m]\u001b[49m\n\u001b[1;32m      4\u001b[0m     distance \u001b[38;5;241m=\u001b[39m t_d_pair[\u001b[38;5;241m1\u001b[39m]\n\u001b[1;32m      5\u001b[0m     success_range \u001b[38;5;241m=\u001b[39m []\n",
      "\u001b[0;31mTypeError\u001b[0m: 'int' object is not subscriptable"
     ]
    }
   ],
   "source": [
    "total_score(time_and_distance(test_input))"
   ]
  },
  {
   "cell_type": "code",
   "execution_count": null,
   "id": "da2d0e82",
   "metadata": {},
   "outputs": [],
   "source": []
  },
  {
   "cell_type": "code",
   "execution_count": null,
   "id": "43fd2679",
   "metadata": {},
   "outputs": [],
   "source": []
  }
 ],
 "metadata": {
  "kernelspec": {
   "display_name": "Python 3 (ipykernel)",
   "language": "python",
   "name": "python3"
  },
  "language_info": {
   "codemirror_mode": {
    "name": "ipython",
    "version": 3
   },
   "file_extension": ".py",
   "mimetype": "text/x-python",
   "name": "python",
   "nbconvert_exporter": "python",
   "pygments_lexer": "ipython3",
   "version": "3.8.12"
  },
  "toc": {
   "base_numbering": 1,
   "nav_menu": {},
   "number_sections": true,
   "sideBar": true,
   "skip_h1_title": false,
   "title_cell": "Table of Contents",
   "title_sidebar": "Contents",
   "toc_cell": false,
   "toc_position": {},
   "toc_section_display": true,
   "toc_window_display": false
  }
 },
 "nbformat": 4,
 "nbformat_minor": 5
}
