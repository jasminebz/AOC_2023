{
 "cells": [
  {
   "cell_type": "markdown",
   "id": "038b58eb",
   "metadata": {},
   "source": [
    "\n",
    "# Input"
   ]
  },
  {
   "cell_type": "code",
   "execution_count": null,
   "id": "6c8d8ae5",
   "metadata": {},
   "outputs": [],
   "source": []
  },
  {
   "cell_type": "code",
   "execution_count": null,
   "id": "ffc374bc",
   "metadata": {},
   "outputs": [],
   "source": []
  },
  {
   "cell_type": "code",
   "execution_count": 5,
   "id": "c65322fc",
   "metadata": {},
   "outputs": [],
   "source": [
    "test_input = \"\"\"Time:      7  15   30\n",
    "Distance:  9  40  200\"\"\""
   ]
  },
  {
   "cell_type": "code",
   "execution_count": 36,
   "id": "7e164e26",
   "metadata": {},
   "outputs": [],
   "source": [
    "def times_and_distances(input_):\n",
    "    input_list = input_.split(\"\\n\")\n",
    "    times = [int(x) for x in input_list[0].split(\":\")[1].split(\" \") if x]\n",
    "    distances = [int(x) for x in input_list[1].split(\":\")[1].split(\" \") if x]\n",
    "    return [[x,y] for x, y in zip(times, distances)]"
   ]
  },
  {
   "cell_type": "code",
   "execution_count": 37,
   "id": "0ad8a3e4",
   "metadata": {},
   "outputs": [
    {
     "data": {
      "text/plain": [
       "[[7, 9], [15, 40], [30, 200]]"
      ]
     },
     "execution_count": 37,
     "metadata": {},
     "output_type": "execute_result"
    }
   ],
   "source": [
    "times_and_distances(test_input)"
   ]
  },
  {
   "cell_type": "markdown",
   "id": "e10d4ca6",
   "metadata": {},
   "source": [
    "# Part 1"
   ]
  },
  {
   "cell_type": "code",
   "execution_count": 2,
   "id": "e421a523",
   "metadata": {},
   "outputs": [],
   "source": [
    "# def hold_button(speed, time_holding):\n",
    "#     speed = time_holding\n",
    "#     return speed"
   ]
  },
  {
   "cell_type": "code",
   "execution_count": 40,
   "id": "f55a7363",
   "metadata": {},
   "outputs": [],
   "source": [
    "def race(t_d_pair):\n",
    "    time = t_d_pair[0]\n",
    "    distance = t_d_pair[1]\n",
    "    successes = []\n",
    "    for m in range(time):\n",
    "        time_left = time - m\n",
    "        speed = m\n",
    "        distance_covered = speed*time_left\n",
    "        if distance_covered > distance:\n",
    "            successes.append([speed, distance_covered])\n",
    "    return successes"
   ]
  },
  {
   "cell_type": "code",
   "execution_count": 42,
   "id": "6e0bc48e",
   "metadata": {},
   "outputs": [
    {
     "data": {
      "text/plain": [
       "[[4, 44], [5, 50], [6, 54], [7, 56], [8, 56], [9, 54], [10, 50], [11, 44]]"
      ]
     },
     "execution_count": 42,
     "metadata": {},
     "output_type": "execute_result"
    }
   ],
   "source": [
    "def total_score(t_n_d):\n",
    "    score = 1\n",
    "    for pair in t_n_d:\n",
    "        successes = race(pair)\n",
    "        score = scor"
   ]
  },
  {
   "cell_type": "code",
   "execution_count": null,
   "id": "3b722140",
   "metadata": {},
   "outputs": [],
   "source": []
  }
 ],
 "metadata": {
  "kernelspec": {
   "display_name": "Python 3 (ipykernel)",
   "language": "python",
   "name": "python3"
  },
  "language_info": {
   "codemirror_mode": {
    "name": "ipython",
    "version": 3
   },
   "file_extension": ".py",
   "mimetype": "text/x-python",
   "name": "python",
   "nbconvert_exporter": "python",
   "pygments_lexer": "ipython3",
   "version": "3.8.12"
  },
  "toc": {
   "base_numbering": 1,
   "nav_menu": {},
   "number_sections": true,
   "sideBar": true,
   "skip_h1_title": false,
   "title_cell": "Table of Contents",
   "title_sidebar": "Contents",
   "toc_cell": false,
   "toc_position": {},
   "toc_section_display": true,
   "toc_window_display": false
  }
 },
 "nbformat": 4,
 "nbformat_minor": 5
}
